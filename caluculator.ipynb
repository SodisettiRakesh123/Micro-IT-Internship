{
  "nbformat": 4,
  "nbformat_minor": 0,
  "metadata": {
    "colab": {
      "provenance": [],
      "include_colab_link": true
    },
    "kernelspec": {
      "name": "python3",
      "display_name": "Python 3"
    },
    "language_info": {
      "name": "python"
    },
    "widgets": {
      "application/vnd.jupyter.widget-state+json": {
        "3c8a4f0fda7c406d9925525fbd55fbf3": {
          "model_module": "@jupyter-widgets/controls",
          "model_name": "FloatTextModel",
          "model_module_version": "1.5.0",
          "state": {
            "_dom_classes": [],
            "_model_module": "@jupyter-widgets/controls",
            "_model_module_version": "1.5.0",
            "_model_name": "FloatTextModel",
            "_view_count": null,
            "_view_module": "@jupyter-widgets/controls",
            "_view_module_version": "1.5.0",
            "_view_name": "FloatTextView",
            "continuous_update": false,
            "description": "Number 1:",
            "description_tooltip": null,
            "disabled": false,
            "layout": "IPY_MODEL_c8650f311f384ed897d257e41094d8e3",
            "step": null,
            "style": "IPY_MODEL_fba96597c6a24dd0bb95d99a990a295b",
            "value": 3
          }
        },
        "c8650f311f384ed897d257e41094d8e3": {
          "model_module": "@jupyter-widgets/base",
          "model_name": "LayoutModel",
          "model_module_version": "1.2.0",
          "state": {
            "_model_module": "@jupyter-widgets/base",
            "_model_module_version": "1.2.0",
            "_model_name": "LayoutModel",
            "_view_count": null,
            "_view_module": "@jupyter-widgets/base",
            "_view_module_version": "1.2.0",
            "_view_name": "LayoutView",
            "align_content": null,
            "align_items": null,
            "align_self": null,
            "border": null,
            "bottom": null,
            "display": null,
            "flex": null,
            "flex_flow": null,
            "grid_area": null,
            "grid_auto_columns": null,
            "grid_auto_flow": null,
            "grid_auto_rows": null,
            "grid_column": null,
            "grid_gap": null,
            "grid_row": null,
            "grid_template_areas": null,
            "grid_template_columns": null,
            "grid_template_rows": null,
            "height": null,
            "justify_content": null,
            "justify_items": null,
            "left": null,
            "margin": null,
            "max_height": null,
            "max_width": null,
            "min_height": null,
            "min_width": null,
            "object_fit": null,
            "object_position": null,
            "order": null,
            "overflow": null,
            "overflow_x": null,
            "overflow_y": null,
            "padding": null,
            "right": null,
            "top": null,
            "visibility": null,
            "width": null
          }
        },
        "fba96597c6a24dd0bb95d99a990a295b": {
          "model_module": "@jupyter-widgets/controls",
          "model_name": "DescriptionStyleModel",
          "model_module_version": "1.5.0",
          "state": {
            "_model_module": "@jupyter-widgets/controls",
            "_model_module_version": "1.5.0",
            "_model_name": "DescriptionStyleModel",
            "_view_count": null,
            "_view_module": "@jupyter-widgets/base",
            "_view_module_version": "1.2.0",
            "_view_name": "StyleView",
            "description_width": ""
          }
        },
        "fe622167b4584c80bb9f1df68ca63ced": {
          "model_module": "@jupyter-widgets/controls",
          "model_name": "FloatTextModel",
          "model_module_version": "1.5.0",
          "state": {
            "_dom_classes": [],
            "_model_module": "@jupyter-widgets/controls",
            "_model_module_version": "1.5.0",
            "_model_name": "FloatTextModel",
            "_view_count": null,
            "_view_module": "@jupyter-widgets/controls",
            "_view_module_version": "1.5.0",
            "_view_name": "FloatTextView",
            "continuous_update": false,
            "description": "Number 2:",
            "description_tooltip": null,
            "disabled": false,
            "layout": "IPY_MODEL_5ae2fa69fe3e4978b6f4b44bfb360db6",
            "step": null,
            "style": "IPY_MODEL_1759d5e35a65448185336a96cc916faa",
            "value": 5
          }
        },
        "5ae2fa69fe3e4978b6f4b44bfb360db6": {
          "model_module": "@jupyter-widgets/base",
          "model_name": "LayoutModel",
          "model_module_version": "1.2.0",
          "state": {
            "_model_module": "@jupyter-widgets/base",
            "_model_module_version": "1.2.0",
            "_model_name": "LayoutModel",
            "_view_count": null,
            "_view_module": "@jupyter-widgets/base",
            "_view_module_version": "1.2.0",
            "_view_name": "LayoutView",
            "align_content": null,
            "align_items": null,
            "align_self": null,
            "border": null,
            "bottom": null,
            "display": null,
            "flex": null,
            "flex_flow": null,
            "grid_area": null,
            "grid_auto_columns": null,
            "grid_auto_flow": null,
            "grid_auto_rows": null,
            "grid_column": null,
            "grid_gap": null,
            "grid_row": null,
            "grid_template_areas": null,
            "grid_template_columns": null,
            "grid_template_rows": null,
            "height": null,
            "justify_content": null,
            "justify_items": null,
            "left": null,
            "margin": null,
            "max_height": null,
            "max_width": null,
            "min_height": null,
            "min_width": null,
            "object_fit": null,
            "object_position": null,
            "order": null,
            "overflow": null,
            "overflow_x": null,
            "overflow_y": null,
            "padding": null,
            "right": null,
            "top": null,
            "visibility": null,
            "width": null
          }
        },
        "1759d5e35a65448185336a96cc916faa": {
          "model_module": "@jupyter-widgets/controls",
          "model_name": "DescriptionStyleModel",
          "model_module_version": "1.5.0",
          "state": {
            "_model_module": "@jupyter-widgets/controls",
            "_model_module_version": "1.5.0",
            "_model_name": "DescriptionStyleModel",
            "_view_count": null,
            "_view_module": "@jupyter-widgets/base",
            "_view_module_version": "1.2.0",
            "_view_name": "StyleView",
            "description_width": ""
          }
        },
        "4e181c8a14ee420f85a208ca0e7437f1": {
          "model_module": "@jupyter-widgets/controls",
          "model_name": "DropdownModel",
          "model_module_version": "1.5.0",
          "state": {
            "_dom_classes": [],
            "_model_module": "@jupyter-widgets/controls",
            "_model_module_version": "1.5.0",
            "_model_name": "DropdownModel",
            "_options_labels": [
              "Addition",
              "Subtraction",
              "Multiplication",
              "Division"
            ],
            "_view_count": null,
            "_view_module": "@jupyter-widgets/controls",
            "_view_module_version": "1.5.0",
            "_view_name": "DropdownView",
            "description": "Operation:",
            "description_tooltip": null,
            "disabled": false,
            "index": 0,
            "layout": "IPY_MODEL_22347004dd7f42ee82e3290358f4e701",
            "style": "IPY_MODEL_388f3c4376b0453d9efccee4e7c87961"
          }
        },
        "22347004dd7f42ee82e3290358f4e701": {
          "model_module": "@jupyter-widgets/base",
          "model_name": "LayoutModel",
          "model_module_version": "1.2.0",
          "state": {
            "_model_module": "@jupyter-widgets/base",
            "_model_module_version": "1.2.0",
            "_model_name": "LayoutModel",
            "_view_count": null,
            "_view_module": "@jupyter-widgets/base",
            "_view_module_version": "1.2.0",
            "_view_name": "LayoutView",
            "align_content": null,
            "align_items": null,
            "align_self": null,
            "border": null,
            "bottom": null,
            "display": null,
            "flex": null,
            "flex_flow": null,
            "grid_area": null,
            "grid_auto_columns": null,
            "grid_auto_flow": null,
            "grid_auto_rows": null,
            "grid_column": null,
            "grid_gap": null,
            "grid_row": null,
            "grid_template_areas": null,
            "grid_template_columns": null,
            "grid_template_rows": null,
            "height": null,
            "justify_content": null,
            "justify_items": null,
            "left": null,
            "margin": null,
            "max_height": null,
            "max_width": null,
            "min_height": null,
            "min_width": null,
            "object_fit": null,
            "object_position": null,
            "order": null,
            "overflow": null,
            "overflow_x": null,
            "overflow_y": null,
            "padding": null,
            "right": null,
            "top": null,
            "visibility": null,
            "width": null
          }
        },
        "388f3c4376b0453d9efccee4e7c87961": {
          "model_module": "@jupyter-widgets/controls",
          "model_name": "DescriptionStyleModel",
          "model_module_version": "1.5.0",
          "state": {
            "_model_module": "@jupyter-widgets/controls",
            "_model_module_version": "1.5.0",
            "_model_name": "DescriptionStyleModel",
            "_view_count": null,
            "_view_module": "@jupyter-widgets/base",
            "_view_module_version": "1.2.0",
            "_view_name": "StyleView",
            "description_width": ""
          }
        },
        "1fd11053d14945aeb5f82047c29787c4": {
          "model_module": "@jupyter-widgets/controls",
          "model_name": "ButtonModel",
          "model_module_version": "1.5.0",
          "state": {
            "_dom_classes": [],
            "_model_module": "@jupyter-widgets/controls",
            "_model_module_version": "1.5.0",
            "_model_name": "ButtonModel",
            "_view_count": null,
            "_view_module": "@jupyter-widgets/controls",
            "_view_module_version": "1.5.0",
            "_view_name": "ButtonView",
            "button_style": "",
            "description": "Calculate",
            "disabled": false,
            "icon": "",
            "layout": "IPY_MODEL_3eb5c78831674715a89a5c3e6fcb25f7",
            "style": "IPY_MODEL_5b1e8c6d6c4d42da9ab44949b0280360",
            "tooltip": ""
          }
        },
        "3eb5c78831674715a89a5c3e6fcb25f7": {
          "model_module": "@jupyter-widgets/base",
          "model_name": "LayoutModel",
          "model_module_version": "1.2.0",
          "state": {
            "_model_module": "@jupyter-widgets/base",
            "_model_module_version": "1.2.0",
            "_model_name": "LayoutModel",
            "_view_count": null,
            "_view_module": "@jupyter-widgets/base",
            "_view_module_version": "1.2.0",
            "_view_name": "LayoutView",
            "align_content": null,
            "align_items": null,
            "align_self": null,
            "border": null,
            "bottom": null,
            "display": null,
            "flex": null,
            "flex_flow": null,
            "grid_area": null,
            "grid_auto_columns": null,
            "grid_auto_flow": null,
            "grid_auto_rows": null,
            "grid_column": null,
            "grid_gap": null,
            "grid_row": null,
            "grid_template_areas": null,
            "grid_template_columns": null,
            "grid_template_rows": null,
            "height": null,
            "justify_content": null,
            "justify_items": null,
            "left": null,
            "margin": null,
            "max_height": null,
            "max_width": null,
            "min_height": null,
            "min_width": null,
            "object_fit": null,
            "object_position": null,
            "order": null,
            "overflow": null,
            "overflow_x": null,
            "overflow_y": null,
            "padding": null,
            "right": null,
            "top": null,
            "visibility": null,
            "width": null
          }
        },
        "5b1e8c6d6c4d42da9ab44949b0280360": {
          "model_module": "@jupyter-widgets/controls",
          "model_name": "ButtonStyleModel",
          "model_module_version": "1.5.0",
          "state": {
            "_model_module": "@jupyter-widgets/controls",
            "_model_module_version": "1.5.0",
            "_model_name": "ButtonStyleModel",
            "_view_count": null,
            "_view_module": "@jupyter-widgets/base",
            "_view_module_version": "1.2.0",
            "_view_name": "StyleView",
            "button_color": null,
            "font_weight": ""
          }
        },
        "3de35dce92a94d2998abb0262662b5c9": {
          "model_module": "@jupyter-widgets/controls",
          "model_name": "TextModel",
          "model_module_version": "1.5.0",
          "state": {
            "_dom_classes": [],
            "_model_module": "@jupyter-widgets/controls",
            "_model_module_version": "1.5.0",
            "_model_name": "TextModel",
            "_view_count": null,
            "_view_module": "@jupyter-widgets/controls",
            "_view_module_version": "1.5.0",
            "_view_name": "TextView",
            "continuous_update": true,
            "description": "Result:",
            "description_tooltip": null,
            "disabled": false,
            "layout": "IPY_MODEL_951e2a77148e498d94010b27eb477df3",
            "placeholder": "​",
            "style": "IPY_MODEL_08b6fbd08a92423a94ee6f1837ee2819",
            "value": "8.0"
          }
        },
        "951e2a77148e498d94010b27eb477df3": {
          "model_module": "@jupyter-widgets/base",
          "model_name": "LayoutModel",
          "model_module_version": "1.2.0",
          "state": {
            "_model_module": "@jupyter-widgets/base",
            "_model_module_version": "1.2.0",
            "_model_name": "LayoutModel",
            "_view_count": null,
            "_view_module": "@jupyter-widgets/base",
            "_view_module_version": "1.2.0",
            "_view_name": "LayoutView",
            "align_content": null,
            "align_items": null,
            "align_self": null,
            "border": null,
            "bottom": null,
            "display": null,
            "flex": null,
            "flex_flow": null,
            "grid_area": null,
            "grid_auto_columns": null,
            "grid_auto_flow": null,
            "grid_auto_rows": null,
            "grid_column": null,
            "grid_gap": null,
            "grid_row": null,
            "grid_template_areas": null,
            "grid_template_columns": null,
            "grid_template_rows": null,
            "height": null,
            "justify_content": null,
            "justify_items": null,
            "left": null,
            "margin": null,
            "max_height": null,
            "max_width": null,
            "min_height": null,
            "min_width": null,
            "object_fit": null,
            "object_position": null,
            "order": null,
            "overflow": null,
            "overflow_x": null,
            "overflow_y": null,
            "padding": null,
            "right": null,
            "top": null,
            "visibility": null,
            "width": null
          }
        },
        "08b6fbd08a92423a94ee6f1837ee2819": {
          "model_module": "@jupyter-widgets/controls",
          "model_name": "DescriptionStyleModel",
          "model_module_version": "1.5.0",
          "state": {
            "_model_module": "@jupyter-widgets/controls",
            "_model_module_version": "1.5.0",
            "_model_name": "DescriptionStyleModel",
            "_view_count": null,
            "_view_module": "@jupyter-widgets/base",
            "_view_module_version": "1.2.0",
            "_view_name": "StyleView",
            "description_width": ""
          }
        }
      }
    }
  },
  "cells": [
    {
      "cell_type": "markdown",
      "metadata": {
        "id": "view-in-github",
        "colab_type": "text"
      },
      "source": [
        "<a href=\"https://colab.research.google.com/github/SodisettiRakesh123/Micro-IT-Internship/blob/main/caluculator.ipynb\" target=\"_parent\"><img src=\"https://colab.research.google.com/assets/colab-badge.svg\" alt=\"Open In Colab\"/></a>"
      ]
    },
    {
      "cell_type": "code",
      "execution_count": null,
      "metadata": {
        "id": "uJpriMVKk0sP",
        "colab": {
          "base_uri": "https://localhost:8080/"
        },
        "outputId": "9479fb28-45d7-493b-ca03-a5892f01b563"
      },
      "outputs": [
        {
          "output_type": "stream",
          "name": "stdout",
          "text": [
            "Reading package lists... Done\n",
            "Building dependency tree... Done\n",
            "Reading state information... Done\n",
            "xvfb is already the newest version (2:21.1.4-2ubuntu1.7~22.04.14).\n",
            "0 upgraded, 0 newly installed, 0 to remove and 34 not upgraded.\n",
            "Requirement already satisfied: pyvirtualdisplay in /usr/local/lib/python3.11/dist-packages (3.0)\n"
          ]
        }
      ],
      "source": [
        "!apt-get install -y xvfb # Install X Virtual Frame Buffer\n",
        "!pip install pyvirtualdisplay\n",
        "import pyvirtualdisplay\n",
        "display = pyvirtualdisplay.Display(visible=0, size=(1024, 768))\n",
        "from pyvirtualdisplay import Display\n",
        "display = Display(visible=0, size=(1024, 768))\n",
        "display.start()\n",
        "import os\n",
        "os.system('Xvfb :1 -screen 0 1600x1200x16  &')\n",
        "from ast import Add\n",
        "import tkinter as tk\n",
        "from tkinter import *\n",
        "root=tk.Tk()\n",
        "root.title(\"Rakesh Calc\")\n",
        "e=tkinter.Entry(root,width=35,borderwidth=5)\n",
        "e.grid(row=0,column=0,columnspan=3,padx=10,pady=10)\n",
        "def button_click(number):\n",
        "    current=e.get()\n",
        "    e.delete(0,END)\n",
        "    e.insert(0,str(current)+str(number))\n",
        "def button_clear():\n",
        "    e.delete(0,END)\n",
        "def button_add():\n",
        "    first_number=e.get()\n",
        "    global f_num\n",
        "    global math\n",
        "    math=\"addition\"\n",
        "    f_num=int(first_number)\n",
        "    e.delete(0,END)\n",
        "def button_equal():\n",
        "    second_number=e.get()\n",
        "    e.delete(0,END)\n",
        "    if math==\"addition\":\n",
        "        e.insert(0,f_num+int(second_number))\n",
        "    elif math==\"subtraction\":\n",
        "        e.insert(0,f_num-int(second_number))\n",
        "    elif math==\"multiplication\":\n",
        "        e.insert(0,f_num*int(second_number))\n",
        "    elif math==\"division\":\n",
        "        e.insert(0,f_num/int(second_number))\n",
        "    elif math==\"modulus\":\n",
        "        e.insert(0,f_num%int(second_number))\n",
        "    elif math==\"power\":\n",
        "        e.insert(0,f_num**int(second_number))\n",
        "def subtract():\n",
        "    first_number=e.get()\n",
        "    global f_num\n",
        "    global math\n",
        "    math=\"subtraction\"\n",
        "    f_num=int(first_number)\n",
        "    e.delete(0,END)\n",
        "    return\n",
        "def multiply():\n",
        "    first_number=e.get()\n",
        "    global f_num\n",
        "    global math\n",
        "    math=\"multiplication\"\n",
        "    f_num=int(first_number)\n",
        "    e.delete(0,END)\n",
        "    return\n",
        "def divide():\n",
        "    first_number=e.get()\n",
        "    global f_num\n",
        "    global math\n",
        "    math=\"division\"\n",
        "    f_num=int(first_number)\n",
        "    e.delete(0,END)\n",
        "    return\n",
        "def modulus():\n",
        "    first_number=e.get()\n",
        "    global f_num\n",
        "    global math\n",
        "    math=\"modulus\"\n",
        "    f_num=int(first_number)\n",
        "    e.delete(0,END)\n",
        "    return\n",
        "def power():\n",
        "    first_number=e.get()\n",
        "    global f_num\n",
        "    global math\n",
        "    math=\"power\"\n",
        "    f_num=int(first_number)\n",
        "    e.delete(0,END)\n",
        "    return\n",
        "    button1=tkinter.Button(root,text=\"1\",padx=40,pady=20,command=lambda:button_click(1))\n",
        "    button2=tkinter.Button(root,text=\"2\",padx=40,pady=20,command=lambda:button_click(2))\n",
        "    button3=tkinter.Button(root,text=\"3\",padx=40,pady=20,command=lambda:button_click(3))\n",
        "    button4=tkinter.Button(root,text=\"4\",padx=40,pady=20,command=lambda:button_click(4))\n",
        "    button5=tkinter.Button(root,text=\"5\",padx=40,pady=20,command=lambda:button_click(5))\n",
        "    button6=tkinter.Button(root,text=\"6\",padx=40,pady=20,command=lambda:button_click(6))\n",
        "    button7=tkinter.Button(root,text=\"7\",padx=40,pady=20,command=lambda:button_click(7))\n",
        "    button8=tkinter.Button(root,text=\"8\",padx=40,pady=20,command=lambda:button_click(8))\n",
        "    button9=tkinter.Button(root,text=\"9\",padx=40,pady=20,command=lambda:button_click(9))\n",
        "    button0=tkinter.Button(root,text=\"0\",padx=40,pady=20,command=lambda:button_click(0))\n",
        "    button_add=tkinter.Button(root,text=\"+\",padx=39,pady=20,command=button_add)\n",
        "    button_equal=tkinter.Button(root,text=\"=\",padx=91,pady=20,command=button_equal)\n",
        "    button_clear=tkinter.Button(root,text=\"Clear\",padx=79,pady=20,command=button_clear)\n",
        "    button_subtract=tkinter.Button(root,text=\"-\",padx=41,pady=20,command=subtract)\n",
        "    button_multiply=tkinter.Button(root,text=\"*\",padx=40,pady=20,command=multiply)\n",
        "    button_divide=tkinter.Button(root,text=\"/\",padx=41,pady=20,command=divide)\n",
        "    button_modulus=tkinter.Button(root,text=\"%\",padx=41,pady=20,command=modulus)\n",
        "    button_power=tkinter.Button(root,text=\"^\",padx=41,pady=20,command=power)\n",
        "    buttonqiut=tkinter.Button(root,text=\"Quit\",padx=41,pady=20,command=quit)\n",
        "    button1.grid(row=3,column=0)\n",
        "    button2.grid(row=3,column=1)\n",
        "    button3.grid(row=3,column=2)\n",
        "    button4.grid(row=2,column=0)\n",
        "    button5.grid(row=2,column=1)\n",
        "    button6.grid(row=2,column=2)\n",
        "    button7.grid(row=1,column=0)\n",
        "    button8.grid(row=1,column=1)\n",
        "    button9.grid(row=1,column=2)\n",
        "    button0.grid(row=4,column=0)\n",
        "    button_add.grid(row=5,column=0)\n",
        "    button_equal.grid(row=5,column=1,columnspan=2)\n",
        "    button_clear.grid(row=4,column=1,columnspan=2)\n",
        "    button_subtract.grid(row=6,column=0)\n",
        "    button_multiply.grid(row=6,column=1)\n",
        "    button_divide.grid(row=6,column=2)\n",
        "    button_modulus.grid(row=7,column=0)\n",
        "    button_power.grid(row=7,column=1)\n",
        "    buttonqiut.grid(row=7,column=2)\n",
        "    root.mainloop( )\n"
      ]
    },
    {
      "cell_type": "code",
      "source": [
        "num1=int(input(\"Enter first number: \"))\n",
        "num2=int(input(\"Enter second number:\"))\n",
        "operator=input(\"Enter operator: (+,-,*,/,%,**):\")\n",
        "result=0\n",
        "if operator==\"+\":\n",
        "    result=num1+num2\n",
        "elif operator==\"-\":\n",
        "    result=num1-num2\n",
        "elif operator==\"*\":\n",
        "    result=num1*num2\n",
        "elif operator==\"/\":\n",
        "    result=num1/num2\n",
        "elif operator==\"%\":\n",
        "    result=num1%num2\n",
        "elif operator==\"**\":\n",
        "    result=num1**num2\n",
        "else:\n",
        "    print(\"Invalid operator\")\n",
        "print(result)"
      ],
      "metadata": {
        "colab": {
          "base_uri": "https://localhost:8080/"
        },
        "id": "hmAjCRmrwzyJ",
        "outputId": "997c0372-d9ea-4e06-dd5c-e32f8701111c"
      },
      "execution_count": null,
      "outputs": [
        {
          "output_type": "stream",
          "name": "stdout",
          "text": [
            "Enter first number: 8\n",
            "Enter second number:09\n",
            "Enter operator: (+,-,*,/,%,**):+\n",
            "17\n"
          ]
        }
      ]
    },
    {
      "cell_type": "code",
      "source": [
        "import ipywidgets as widgets\n",
        "from IPython.display import display\n",
        "\n",
        "# Create input fields\n",
        "num1 = widgets.FloatText(description='Number 1:')\n",
        "num2 = widgets.FloatText(description='Number 2:')\n",
        "operation = widgets.Dropdown(options=['Addition', 'Subtraction', 'Multiplication', 'Division'], description='Operation:')\n",
        "\n",
        "# Create output field\n",
        "output = widgets.Text(description='Result:')\n",
        "\n",
        "# Define calculation function\n",
        "def calculate(b):\n",
        "    if operation.value == 'Addition':\n",
        "        result = num1.value + num2.value\n",
        "    elif operation.value == 'Subtraction':\n",
        "        result = num1.value - num2.value\n",
        "    elif operation.value == 'Multiplication':\n",
        "        result = num1.value * num2.value\n",
        "    elif operation.value == 'Division':\n",
        "        if num2.value != 0:\n",
        "            result = num1.value / num2.value\n",
        "        else:\n",
        "            result = \"Error! Division by zero is not allowed.\"\n",
        "    output.value = str(result)\n",
        "\n",
        "# Create button\n",
        "button = widgets.Button(description='Calculate')\n",
        "button.on_click(calculate)\n",
        "\n",
        "# Display widgets\n",
        "display(num1)\n",
        "display(num2)\n",
        "display(operation)\n",
        "display(button)\n",
        "display(output)"
      ],
      "metadata": {
        "colab": {
          "base_uri": "https://localhost:8080/",
          "height": 173,
          "referenced_widgets": [
            "3c8a4f0fda7c406d9925525fbd55fbf3",
            "c8650f311f384ed897d257e41094d8e3",
            "fba96597c6a24dd0bb95d99a990a295b",
            "fe622167b4584c80bb9f1df68ca63ced",
            "5ae2fa69fe3e4978b6f4b44bfb360db6",
            "1759d5e35a65448185336a96cc916faa",
            "4e181c8a14ee420f85a208ca0e7437f1",
            "22347004dd7f42ee82e3290358f4e701",
            "388f3c4376b0453d9efccee4e7c87961",
            "1fd11053d14945aeb5f82047c29787c4",
            "3eb5c78831674715a89a5c3e6fcb25f7",
            "5b1e8c6d6c4d42da9ab44949b0280360",
            "3de35dce92a94d2998abb0262662b5c9",
            "951e2a77148e498d94010b27eb477df3",
            "08b6fbd08a92423a94ee6f1837ee2819"
          ]
        },
        "id": "tW-6DXsq3fKs",
        "outputId": "843ed198-387a-487e-951c-8d13f75e5db0"
      },
      "execution_count": null,
      "outputs": [
        {
          "output_type": "display_data",
          "data": {
            "text/plain": [
              "FloatText(value=0.0, description='Number 1:')"
            ],
            "application/vnd.jupyter.widget-view+json": {
              "version_major": 2,
              "version_minor": 0,
              "model_id": "3c8a4f0fda7c406d9925525fbd55fbf3"
            }
          },
          "metadata": {}
        },
        {
          "output_type": "display_data",
          "data": {
            "text/plain": [
              "FloatText(value=0.0, description='Number 2:')"
            ],
            "application/vnd.jupyter.widget-view+json": {
              "version_major": 2,
              "version_minor": 0,
              "model_id": "fe622167b4584c80bb9f1df68ca63ced"
            }
          },
          "metadata": {}
        },
        {
          "output_type": "display_data",
          "data": {
            "text/plain": [
              "Dropdown(description='Operation:', options=('Addition', 'Subtraction', 'Multiplication', 'Division'), value='A…"
            ],
            "application/vnd.jupyter.widget-view+json": {
              "version_major": 2,
              "version_minor": 0,
              "model_id": "4e181c8a14ee420f85a208ca0e7437f1"
            }
          },
          "metadata": {}
        },
        {
          "output_type": "display_data",
          "data": {
            "text/plain": [
              "Button(description='Calculate', style=ButtonStyle())"
            ],
            "application/vnd.jupyter.widget-view+json": {
              "version_major": 2,
              "version_minor": 0,
              "model_id": "1fd11053d14945aeb5f82047c29787c4"
            }
          },
          "metadata": {}
        },
        {
          "output_type": "display_data",
          "data": {
            "text/plain": [
              "Text(value='', description='Result:')"
            ],
            "application/vnd.jupyter.widget-view+json": {
              "version_major": 2,
              "version_minor": 0,
              "model_id": "3de35dce92a94d2998abb0262662b5c9"
            }
          },
          "metadata": {}
        }
      ]
    },
    {
      "cell_type": "code",
      "source": [],
      "metadata": {
        "id": "P5rv3XHM6tWu"
      },
      "execution_count": null,
      "outputs": []
    }
  ]
}